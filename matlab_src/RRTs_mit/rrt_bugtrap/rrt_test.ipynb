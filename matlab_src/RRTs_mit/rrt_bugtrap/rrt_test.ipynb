{
 "cells": [
  {
   "cell_type": "code",
   "execution_count": 46,
   "metadata": {},
   "outputs": [],
   "source": [
    "import numpy as np\n",
    "from numpy.linalg import norm\n",
    "from matplotlib import pyplot as plt\n",
    "from random import random"
   ]
  },
  {
   "cell_type": "markdown",
   "metadata": {},
   "source": [
    "Helper functions"
   ]
  },
  {
   "cell_type": "code",
   "execution_count": 4,
   "metadata": {},
   "outputs": [],
   "source": [
    "def meters2grid(pose_m, nrows=1000, ncols=1000):\n",
    "    # [0, 0](m) -> [250, 250]\n",
    "    # [1, 0](m) -> [250+100, 250]\n",
    "    # [0,-1](m) -> [250, 250-100]\n",
    "    pose_on_grid = np.array(pose_m)*100 + np.array([ncols/2, nrows/2])\n",
    "    return np.array( pose_on_grid, dtype=int)\n",
    "\n",
    "def grid2meters(pose_grid, nrows=1000, ncols=1000):\n",
    "    # [250, 250] -> [0, 0](m)\n",
    "    # [250+100, 250] -> [1, 0](m)\n",
    "    # [250, 250-100] -> [0,-1](m)\n",
    "    pose_meters = ( np.array(pose_grid) - np.array([ncols/2, nrows/2]) ) / 100.0\n",
    "    return pose_meters\n",
    "\n",
    "def normalize(vector):\n",
    "    if np.linalg.norm(vector)==0: return np.zeros_like(vector)\n",
    "    return vector / np.linalg.norm(vector)\n",
    "\n",
    "def draw_map(obstacles_poses, R_obstacles, nrows=1000, ncols=1000):\n",
    "    plt.grid()\n",
    "    plt.xlabel('X')\n",
    "    plt.ylabel('Y')\n",
    "    ax = plt.gca()\n",
    "    for pose in obstacles_poses:\n",
    "        circle = plt.Circle(pose, R_obstacles, color='black')\n",
    "        ax.add_artist(circle)\n",
    "\n",
    "def draw_robot(robot):\n",
    "    plt.plot(robot.pose[0], robot.pose[1], 'ro', color='blue')"
   ]
  },
  {
   "cell_type": "code",
   "execution_count": 17,
   "metadata": {},
   "outputs": [
    {
     "data": {
      "text/plain": [
       "<matplotlib.legend.Legend at 0x7fb5ffd56358>"
      ]
     },
     "execution_count": 17,
     "metadata": {},
     "output_type": "execute_result"
    },
    {
     "data": {
      "image/png": "[encoded data removed]",
      "text/plain": [
       "<Figure size 720x720 with 1 Axes>"
      ]
     },
     "metadata": {
      "needs_background": "light"
     },
     "output_type": "display_data"
    }
   ],
   "source": [
    "obstacles_poses = [[0,0], [1,1]]\n",
    "R_obstacles = 0.2\n",
    "start = [2, 0]\n",
    "goal = [0, 2]\n",
    "\n",
    "\n",
    "plt.figure(figsize=(10,10))\n",
    "draw_map(obstacles_poses, R_obstacles)\n",
    "plt.plot(start[0],start[1], 'ro', color='red', markersize=20, label='start')\n",
    "plt.plot(goal[0],goal[1], 'ro', color='green', markersize=20, label='goal')\n",
    "plt.legend()"
   ]
  },
  {
   "cell_type": "code",
   "execution_count": 26,
   "metadata": {},
   "outputs": [],
   "source": [
    "# Initialize RRT. The RRT will be represented as a 2 x N list of points. So\n",
    "# each column represents a vertex of the tree.\n",
    "rrt_verts = np.zeros([2,1000])\n",
    "rrt_verts[:,0] = start\n",
    "N = 1\n",
    "nearGoal = False # This will be set to true if goal has been reached\n",
    "minDistGoal = 0.25 # This is the convergence criterion. We will declare\n",
    "#                     success when the tree reaches within 0.25 in distance\n",
    "#                     from the goal. DO NOT MODIFY."
   ]
  },
  {
   "cell_type": "code",
   "execution_count": 27,
   "metadata": {},
   "outputs": [],
   "source": [
    "# Extension parameter\n",
    "d = 0.5 # This controls how far the RRT extends in each step. DO NOT MODIFY"
   ]
  },
  {
   "cell_type": "code",
   "execution_count": 58,
   "metadata": {},
   "outputs": [],
   "source": [
    "# RRT algorithm\n",
    "# while not nearGoal\n",
    "for i in range(100):\n",
    "    # Sample point\n",
    "    rnd = random()\n",
    "    # With probability 0.05, sample the goal. This promotes movement to the goal.\n",
    "    if rnd < 0.05:\n",
    "        xy = goal\n",
    "    else:\n",
    "        # Sample (uniformly) from space (with probability 0.95). The space is defined\n",
    "        # with the bounds world_bounds_x and world_bounds_y defined above.\n",
    "        # So, the x coordinate should be sampled in the interval\n",
    "        # world_bounds_x=2.5 and the y coordinate from world_bounds_y=2.5.\n",
    "        xy = [random()*5-2.5, random()*5-2.5]; # Should be a 2 x 1 vector\n",
    "#     plt.plot(xy[0],xy[1], 'ro')"
   ]
  }
 ],
 "metadata": {
  "kernelspec": {
   "display_name": "Python 2",
   "language": "python",
   "name": "python2"
  },
  "language_info": {
   "codemirror_mode": {
    "name": "ipython",
    "version": 3
   },
   "file_extension": ".py",
   "mimetype": "text/x-python",
   "name": "python",
   "nbconvert_exporter": "python",
   "pygments_lexer": "ipython3",
   "version": "3.5.2"
  }
 },
 "nbformat": 4,
 "nbformat_minor": 2
}
