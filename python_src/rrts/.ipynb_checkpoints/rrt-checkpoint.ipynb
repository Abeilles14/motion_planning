{
 "cells": [
  {
   "cell_type": "code",
   "execution_count": 1,
   "metadata": {},
   "outputs": [],
   "source": [
    "import numpy as np\n",
    "from numpy.linalg import norm\n",
    "from math import *\n",
    "from matplotlib import pyplot as plt\n",
    "from matplotlib.patches import Polygon\n",
    "from random import random\n",
    "from scipy.spatial import ConvexHull\n",
    "from matplotlib import path\n",
    "import time\n",
    "\n",
    "% matplotlib inline"
   ]
  },
  {
   "cell_type": "markdown",
   "metadata": {},
   "source": [
    "Helper functions"
   ]
  },
  {
   "cell_type": "code",
   "execution_count": 2,
   "metadata": {},
   "outputs": [],
   "source": [
    "def isCollisionFreeVertex(obstacles, xy):\n",
    "    collFree = True\n",
    "\n",
    "    for obstacle in obstacles:\n",
    "        hull = path.Path(obstacle)\n",
    "        collFree = not hull.contains_points([xy])\n",
    "        if hull.contains_points([xy]):\n",
    "#             print 'collision'\n",
    "            return collFree\n",
    "\n",
    "    return collFree"
   ]
  },
  {
   "cell_type": "code",
   "execution_count": 3,
   "metadata": {},
   "outputs": [],
   "source": [
    "def isCollisionFreeEdge(obstacles, closest_vert, xy):\n",
    "    closest_vert = np.array(closest_vert); xy = np.array(xy)\n",
    "    collFree = True\n",
    "    l = norm(closest_vert - xy)\n",
    "    map_resolution = 0.001; M = int(l / map_resolution)\n",
    "    if M <= 2: M = 3\n",
    "    t = np.linspace(0,1,M)\n",
    "    for i in range(1,M-1):\n",
    "        p = (1-t[i])*closest_vert + t[i]*xy # calculate configuration\n",
    "        collFree = isCollisionFreeVertex(obstacles, p) \n",
    "        if collFree == False: return False\n",
    "\n",
    "    return collFree"
   ]
  },
  {
   "cell_type": "code",
   "execution_count": 4,
   "metadata": {},
   "outputs": [],
   "source": [
    "def closestVertex(rrt_verts, xy):\n",
    "    distance = np.zeros(len(rrt_verts[0,:]))\n",
    "    for k in range( len(rrt_verts[0,:]) ):\n",
    "        distance[k] = sqrt((xy[0] - rrt_verts[0,k])**2 + (xy[1] - rrt_verts[1,k])**2)\n",
    "    dmin = min(distance)\n",
    "    ind_min = distance.tolist().index(dmin)\n",
    "    \n",
    "    closest_vert = rrt_verts[:,ind_min]\n",
    "\n",
    "    return closest_vert, ind_min"
   ]
  },
  {
   "cell_type": "markdown",
   "metadata": {},
   "source": [
    "RRT algorithm"
   ]
  },
  {
   "cell_type": "code",
   "execution_count": 5,
   "metadata": {},
   "outputs": [],
   "source": [
    "def draw_map():\n",
    "    # Obstacles. An obstacle is represented as a convex hull of a number of points. \n",
    "    # First row is x, second is y (position of vertices)\n",
    "    w = 0.2\n",
    "    obstacles = [\n",
    "                  np.array([[0, 0], [1, 0], [1, 0.1], [0, w]]),\n",
    "                  np.array([[0, 0], [w, 0.2], [0.1, 2], [0.0, 2.0]]),\n",
    "                  np.array([[0, 2-w], [1, 2], [1, 2+w], [0, 2+w]]),\n",
    "                  np.array([[1-w, 0], [1+w, 0], [1+w, 1], [1, 1]]),\n",
    "                  np.array([[1-w, 2+w], [1+w, 2+w], [1+w, 1.5], [1, 1.5]]),\n",
    "                  np.array([[0.8, 1], [1+w, 1], [1+w, 1+w], [0.8, 1+w]]),\n",
    "                  np.array([[0.8, 1.5], [1+w, 1.5], [1+w, 1.5+w], [0.8, 1.5+w]])\n",
    "                ]\n",
    "\n",
    "    # Bounds on world\n",
    "    world_bounds_x = [-2.5, 2.5]\n",
    "    world_bounds_y = [-2.5, 2.5]\n",
    "\n",
    "\n",
    "    # Draw obstacles\n",
    "    fig = plt.figure(figsize=(10, 10))\n",
    "    plt.grid()\n",
    "    ax = plt.gca()\n",
    "    ax.set_xlim(world_bounds_x)\n",
    "    ax.set_ylim(world_bounds_y)\n",
    "    for k in range(len(obstacles)):\n",
    "        ax.add_patch( Polygon(obstacles[k]) )\n",
    "    return obstacles"
   ]
  },
  {
   "cell_type": "code",
   "execution_count": 6,
   "metadata": {},
   "outputs": [
    {
     "ename": "NameError",
     "evalue": "name 'obstacles' is not defined",
     "output_type": "error",
     "traceback": [
      "\u001b[0;31m---------------------------------------------------------------------------\u001b[0m",
      "\u001b[0;31mNameError\u001b[0m                                 Traceback (most recent call last)",
      "\u001b[0;32m<ipython-input-6-2b42263a5ded>\u001b[0m in \u001b[0;36m<module>\u001b[0;34m()\u001b[0m\n\u001b[1;32m     33\u001b[0m         \u001b[0mxy\u001b[0m \u001b[0;34m=\u001b[0m \u001b[0mnp\u001b[0m\u001b[0;34m.\u001b[0m\u001b[0marray\u001b[0m\u001b[0;34m(\u001b[0m\u001b[0;34m[\u001b[0m\u001b[0mrandom\u001b[0m\u001b[0;34m(\u001b[0m\u001b[0;34m)\u001b[0m\u001b[0;34m*\u001b[0m\u001b[0;36m5\u001b[0m\u001b[0;34m-\u001b[0m\u001b[0;36m2.5\u001b[0m\u001b[0;34m,\u001b[0m \u001b[0mrandom\u001b[0m\u001b[0;34m(\u001b[0m\u001b[0;34m)\u001b[0m\u001b[0;34m*\u001b[0m\u001b[0;36m5\u001b[0m\u001b[0;34m-\u001b[0m\u001b[0;36m2.5\u001b[0m\u001b[0;34m]\u001b[0m\u001b[0;34m)\u001b[0m \u001b[0;31m# Should be a 2 x 1 vector\u001b[0m\u001b[0;34m\u001b[0m\u001b[0m\n\u001b[1;32m     34\u001b[0m     \u001b[0;31m# Check if sample is collision free\u001b[0m\u001b[0;34m\u001b[0m\u001b[0;34m\u001b[0m\u001b[0m\n\u001b[0;32m---> 35\u001b[0;31m     \u001b[0mcollFree\u001b[0m \u001b[0;34m=\u001b[0m \u001b[0misCollisionFreeVertex\u001b[0m\u001b[0;34m(\u001b[0m\u001b[0mobstacles\u001b[0m\u001b[0;34m,\u001b[0m \u001b[0mxy\u001b[0m\u001b[0;34m)\u001b[0m\u001b[0;34m\u001b[0m\u001b[0m\n\u001b[0m\u001b[1;32m     36\u001b[0m     \u001b[0;31m# If it's not collision free, continue with loop\u001b[0m\u001b[0;34m\u001b[0m\u001b[0;34m\u001b[0m\u001b[0m\n\u001b[1;32m     37\u001b[0m     \u001b[0;32mif\u001b[0m \u001b[0;32mnot\u001b[0m \u001b[0mcollFree\u001b[0m\u001b[0;34m:\u001b[0m\u001b[0;34m\u001b[0m\u001b[0m\n",
      "\u001b[0;31mNameError\u001b[0m: name 'obstacles' is not defined"
     ]
    },
    {
     "data": {
      "image/png": "[encoded data removed]",
      "text/plain": [
       "<Figure size 720x720 with 1 Axes>"
      ]
     },
     "metadata": {
      "needs_background": "light"
     },
     "output_type": "display_data"
    }
   ],
   "source": [
    "# Initialization\n",
    "visualize = 1\n",
    "maxiters  = 5000\n",
    "\n",
    "obstaclesdraw_map()\n",
    "\n",
    "# Start and goal positions\n",
    "xy_start = np.array([0.7, 0.4]); plt.plot(xy_start[0],xy_start[1],'bo',color='red', markersize=20)\n",
    "xy_goal =  np.array([-1.0, 1.0]);  plt.plot(xy_goal[0], xy_goal[1], 'bo',color='green',markersize=20)\n",
    "\n",
    "# Initialize RRT. The RRT will be represented as a 2 x N list of points.\n",
    "# So each column represents a vertex of the tree.\n",
    "rrt_verts = xy_start[np.newaxis].T\n",
    "nearGoal = False # This will be set to true if goal has been reached\n",
    "minDistGoal = 0.1 # Convergence criterion: success when the tree reaches within 0.25 in distance from the goal.\n",
    "d = 0.20 # Extension parameter: this controls how far the RRT extends in each step.\n",
    "\n",
    "# RRT algorithm\n",
    "indexes = []\n",
    "start_time = time.time()\n",
    "iters = 0\n",
    "while not nearGoal and iters < maxiters:\n",
    "    # Sample point\n",
    "    rnd = random()\n",
    "    # With probability 0.05, sample the goal. This promotes movement to the goal.\n",
    "    if rnd < 0.05:\n",
    "        xy = xy_goal\n",
    "    else:\n",
    "        # Sample (uniformly) from space (with probability 0.95). The space is defined\n",
    "        # with the bounds world_bounds_x and world_bounds_y defined above.\n",
    "        # So, the x coordinate should be sampled in the interval\n",
    "        # world_bounds_x=2.5 and the y coordinate from world_bounds_y=2.5.\n",
    "        xy = np.array([random()*5-2.5, random()*5-2.5]) # Should be a 2 x 1 vector\n",
    "    # Check if sample is collision free\n",
    "    collFree = isCollisionFreeVertex(obstacles, xy)\n",
    "    # If it's not collision free, continue with loop\n",
    "    if not collFree:\n",
    "        iters += 1\n",
    "        continue\n",
    "\n",
    "    # If it is collision free, find closest point in existing tree. \n",
    "    closest_vert, ind_min = closestVertex(rrt_verts, xy)\n",
    "    indexes.append(ind_min)\n",
    "    \n",
    "    # Extend tree towards xy from closest_vert. Use the extension parameter\n",
    "    # d defined above as your step size. In other words, the Euclidean\n",
    "    # distance between new_vert and closest_vert should be d.\n",
    "    new_vert = closest_vert + d*(xy - closest_vert)\n",
    "\n",
    "    # Check if new vertice is in collision\n",
    "    collFree = isCollisionFreeEdge(obstacles, closest_vert, new_vert)\n",
    "    # If it's not collision free, continue with loop\n",
    "    if not collFree:\n",
    "        iters += 1\n",
    "        continue\n",
    "    \n",
    "    if visualize:\n",
    "        plt.plot(xy[0], xy[1], 'ro', color='k')\n",
    "        plt.plot(new_vert[0], new_vert[1], 'bo',color = 'blue', markersize=5) # VERTICES\n",
    "        plt.plot([closest_vert[0], new_vert[0]], [closest_vert[1], new_vert[1]], color='blue') # EDGES\n",
    "\n",
    "\n",
    "    # If it is collision free, add it to tree    \n",
    "    rrt_verts = np.hstack([rrt_verts, new_vert[np.newaxis].T])\n",
    "#     print(rrt_verts.shape[1])\n",
    "\n",
    "    # Check if we have reached the goal\n",
    "    if norm(np.array(xy_goal) - np.array(new_vert)) < minDistGoal:\n",
    "        end_time = time.time()\n",
    "        nearGoal = True\n",
    "        print 'Reached the goal after %.2f seconds:' % (end_time - start_time)\n",
    "\n",
    "    iters += 1\n",
    "\n",
    "print 'Number of iterations passed: %d / %d' %(iters, maxiters)\n",
    "print 'RRT length: ', rrt_verts.shape[1]"
   ]
  }
 ],
 "metadata": {
  "kernelspec": {
   "display_name": "Python 2",
   "language": "python",
   "name": "python2"
  },
  "language_info": {
   "codemirror_mode": {
    "name": "ipython",
    "version": 2
   },
   "file_extension": ".py",
   "mimetype": "text/x-python",
   "name": "python",
   "nbconvert_exporter": "python",
   "pygments_lexer": "ipython2",
   "version": "2.7.12"
  }
 },
 "nbformat": 4,
 "nbformat_minor": 2
}
