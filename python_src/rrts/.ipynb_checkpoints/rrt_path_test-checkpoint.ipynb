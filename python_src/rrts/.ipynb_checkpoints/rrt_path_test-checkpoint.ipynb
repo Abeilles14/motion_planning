{
 "cells": [
  {
   "cell_type": "code",
   "execution_count": 1,
   "metadata": {},
   "outputs": [],
   "source": [
    "import numpy as np\n",
    "from numpy.linalg import norm\n",
    "from matplotlib import pyplot as plt\n",
    "from random import random"
   ]
  },
  {
   "cell_type": "code",
   "execution_count": 2,
   "metadata": {},
   "outputs": [],
   "source": [
    "class Params:\n",
    "    def __init__(self):\n",
    "        self.grid_resolution = 0.5\n",
    "        self.threshold = 5\n",
    "        self.maxiters = 1000\n",
    "        self.smoothiters = 150"
   ]
  },
  {
   "cell_type": "code",
   "execution_count": 3,
   "metadata": {},
   "outputs": [],
   "source": [
    "class Robot:\n",
    "    def __init__(self):\n",
    "        self.p = [0, 0]\n",
    "        self.ballradius = 0.5"
   ]
  },
  {
   "cell_type": "code",
   "execution_count": 4,
   "metadata": {},
   "outputs": [],
   "source": [
    "class Node:\n",
    "    def __init__(self):\n",
    "        self.p     = [0, 0]\n",
    "        self.iPrev = 0"
   ]
  },
  {
   "cell_type": "code",
   "execution_count": 5,
   "metadata": {},
   "outputs": [],
   "source": [
    "# Helper functions\n",
    "from matplotlib import path\n",
    "\n",
    "def isCollisionFreeVertex(robot, obstacles):\n",
    "    # the function calculates value:\n",
    "    # collFree = [xy-point is outside obstacles map]\n",
    "    collFree = 1\n",
    "    xy = robot.p\n",
    "    for obstacle in obstacles:\n",
    "        hull = path.Path(obstacle)\n",
    "        collFree = not hull.contains_points([xy])\n",
    "        if hull.contains_points([xy]):\n",
    "            print('collision Vertex')\n",
    "            return 0\n",
    "\n",
    "    return collFree"
   ]
  },
  {
   "cell_type": "code",
   "execution_count": 6,
   "metadata": {},
   "outputs": [],
   "source": [
    "def isCollisionFreeEdge(robot, obstacles, p1, p2, map_resolution=0.5):\n",
    "    p1 = np.array(p1); p2 = np.array(p2)\n",
    "    collFree = 1\n",
    "    l = norm(p1 - p2)\n",
    "    M = int(l / map_resolution)\n",
    "    if M <= 2: M = 3\n",
    "    t = np.linspace(0,1,M)\n",
    "    for i in range(1,M-1):\n",
    "        p = (1-t[i])*p1 + t[i]*p2 # calculate configuration\n",
    "        robot.p = p\n",
    "        collFree = isCollisionFreeVertex(robot, obstacles) \n",
    "        if collFree == 0:\n",
    "            print('collision Edge')\n",
    "            return 0\n",
    "\n",
    "    return collFree"
   ]
  },
  {
   "cell_type": "code",
   "execution_count": 8,
   "metadata": {},
   "outputs": [
    {
     "ename": "NameError",
     "evalue": "name 'obstacles' is not defined",
     "output_type": "error",
     "traceback": [
      "\u001b[0;31m---------------------------------------------------------------------------\u001b[0m",
      "\u001b[0;31mNameError\u001b[0m                                 Traceback (most recent call last)",
      "\u001b[0;32m<ipython-input-8-eef2b8570d1a>\u001b[0m in \u001b[0;36m<module>\u001b[0;34m()\u001b[0m\n\u001b[1;32m      1\u001b[0m \u001b[0mr\u001b[0m \u001b[0;34m=\u001b[0m \u001b[0mRobot\u001b[0m\u001b[0;34m(\u001b[0m\u001b[0;34m)\u001b[0m\u001b[0;34m\u001b[0m\u001b[0m\n\u001b[1;32m      2\u001b[0m \u001b[0mr\u001b[0m\u001b[0;34m.\u001b[0m\u001b[0mp\u001b[0m \u001b[0;34m=\u001b[0m \u001b[0;34m[\u001b[0m\u001b[0;36m0.5\u001b[0m\u001b[0;34m,\u001b[0m \u001b[0;36m2.0\u001b[0m\u001b[0;34m]\u001b[0m\u001b[0;34m\u001b[0m\u001b[0m\n\u001b[0;32m----> 3\u001b[0;31m \u001b[0misCollisionFreeVertex\u001b[0m\u001b[0;34m(\u001b[0m\u001b[0mr\u001b[0m\u001b[0;34m,\u001b[0m \u001b[0mobstacles\u001b[0m\u001b[0;34m)\u001b[0m\u001b[0;34m\u001b[0m\u001b[0m\n\u001b[0m",
      "\u001b[0;31mNameError\u001b[0m: name 'obstacles' is not defined"
     ]
    }
   ],
   "source": [
    "r = Robot()\n",
    "r.p = [0.5, 2.0]\n",
    "isCollisionFreeVertex(r, obstacles)"
   ]
  },
  {
   "cell_type": "code",
   "execution_count": 3,
   "metadata": {},
   "outputs": [],
   "source": [
    "def AddNode(rrt, p, iPrev):\n",
    "    node.p = p\n",
    "    node.iPrev = iPrev\n",
    "    rrt.append( node )\n",
    "    return rrt"
   ]
  },
  {
   "cell_type": "code",
   "execution_count": 133,
   "metadata": {},
   "outputs": [],
   "source": [
    "def PlanPathRRT(robot, obstacles, param, p_start, p_goal):\n",
    "    global iterations\n",
    "    P = []\n",
    "    rrt = []\n",
    "    rrt = AddNode(rrt, p_start, 0)\n",
    "    iteration = 1\n",
    "    while iteration <= param.maxiters:\n",
    "        if iteration % 50 == 0:\n",
    "            blah = 0\n",
    "\n",
    "        p = np.random.rand(2)\n",
    "        p[0] = p[0]*5-2.5\n",
    "        p[1] = p[1]*5-2.5\n",
    "        robot.p = p\n",
    "        collision = isCollisionFreeVertex(robot, obstacles)\n",
    "        if collision == 0: # skip to next iteration\n",
    "            iteration += 1\n",
    "            continue\n",
    "        \n",
    "        # do something if valid coordinate\n",
    "        for i in range(len(rrt)):\n",
    "            dist = norm(rrt[i].p - p)\n",
    "            if (i==0) or (dist < mindist):\n",
    "                mindist = dist\n",
    "                imin = i\n",
    "                l = rrt[i].p\n",
    "\n",
    "        collision = isCollisionFreeEdge(robot, obstacles, p, l, param.grid_resolution) # check for valid edge\n",
    "        if collision == 0: # skip to next iteration if not valid edge\n",
    "            iteration = iteration + 1\n",
    "            continue\n",
    "        rrt = AddNode(rrt, p, imin) # add p to T with parent l\n",
    "        dist = norm(p-p_goal)\n",
    "\n",
    "        \n",
    "        plt.plot(rrt[iteration].p[0], rrt[iteration].p[1], '.', color='k')\n",
    "        if (dist < param.threshold):\n",
    "#             print('near the goal')\n",
    "            collision = isCollisionFreeEdge(robot, obstacles, p, p_goal, param.grid_resolution) # check for valid edge\n",
    "            if collision == 1: # skip to next iteration if not valid edge\n",
    "                iteration = iteration + 1\n",
    "                continue \n",
    "                \n",
    "            iterations = iteration\n",
    "            # add qgoal to T with parent q and exit with success\n",
    "            rrt = AddNode(rrt, p_goal, len(rrt))\n",
    "            # construct P here:\n",
    "            i = len(rrt)\n",
    "            P = np.array( rrt[i].p )\n",
    "            while 1:\n",
    "                i = rrt[i].iPrev\n",
    "                print(i)\n",
    "                if i == 0:\n",
    "                    return\n",
    "    \n",
    "                P = np.append([P, rrt[i].p])\n",
    "\n",
    "\n",
    "        iteration = iteration + 1\n",
    "    \n",
    "    iterations = iteration - 1\n",
    "\n",
    "    return P"
   ]
  },
  {
   "cell_type": "code",
   "execution_count": 132,
   "metadata": {},
   "outputs": [
    {
     "data": {
      "image/png": "[encoded data removed]",
      "text/plain": [
       "<Figure size 720x720 with 1 Axes>"
      ]
     },
     "metadata": {
      "needs_background": "light"
     },
     "output_type": "display_data"
    }
   ],
   "source": [
    "# Obstacle Locations\n",
    "w = 0.2\n",
    "# obstacles = [\n",
    "#               np.array([[0, 0], [1, 0], [1, 0.1], [0, w]]),\n",
    "#               np.array([[0, 0], [w, 0.2], [0.1, 2], [0.0, 2.0]]),\n",
    "#               np.array([[0, 2-w], [1, 2], [1, 2+w], [0, 2+w]]),\n",
    "#               np.array([[1-w, 0], [1+w, 0], [1+w, 1], [1, 1]]),\n",
    "#               np.array([[1-w, 2+w], [1+w, 2+w], [1+w, 1.5], [1, 1.5]]),\n",
    "#               np.array([[0.8, 1], [1+w, 1], [1+w, 1+w], [0.8, 1+w]]),\n",
    "#               np.array([[0.8, 1.5], [1+w, 1.5], [1+w, 1.5+w], [0.8, 1.5+w]])\n",
    "#             ]\n",
    "obstacles = []\n",
    "\n",
    "\n",
    "# Set Start and Goal locations\n",
    "p_start = [0.5, 0.5]\n",
    "p_goal = [0, -1]\n",
    "\n",
    "# initialization\n",
    "robot = Robot()\n",
    "robot.ballradius = 0.5\n",
    "robot.p = p_start\n",
    "\n",
    "node = Node()\n",
    "param = Params()\n",
    "\n",
    "\n",
    "from matplotlib.patches import Polygon\n",
    "\n",
    "# Bounds on world\n",
    "world_bounds_x = [-2.5, 2.5]\n",
    "world_bounds_y = [-2.5, 2.5]\n",
    "\n",
    "\n",
    "# Draw obstacles\n",
    "fig = plt.figure(figsize=(10, 10))\n",
    "plt.grid()\n",
    "ax = plt.gca()\n",
    "ax.set_xlim(world_bounds_x)\n",
    "ax.set_ylim(world_bounds_y)\n",
    "for k in range(len(obstacles)):\n",
    "    ax.add_patch( Polygon(obstacles[k]) )\n",
    "    \n",
    "# Plan the path\n",
    "P = PlanPathRRT(robot, obstacles, param, p_start, p_goal)\n",
    "\n",
    "\n",
    "\n",
    "# Plot the path from RRT\n",
    "# for i in range(1, len(P)):\n",
    "#     plt.plot([P(1,i);P(1,i-1)],[P(2,i);P(2,i-1)],'r','LineWidth',3)"
   ]
  }
 ],
 "metadata": {
  "kernelspec": {
   "display_name": "Python 2",
   "language": "python",
   "name": "python2"
  },
  "language_info": {
   "codemirror_mode": {
    "name": "ipython",
    "version": 2
   },
   "file_extension": ".py",
   "mimetype": "text/x-python",
   "name": "python",
   "nbconvert_exporter": "python",
   "pygments_lexer": "ipython2",
   "version": "2.7.12"
  }
 },
 "nbformat": 4,
 "nbformat_minor": 2
}
