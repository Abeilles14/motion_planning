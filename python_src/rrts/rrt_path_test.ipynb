{
 "cells": [
  {
   "cell_type": "code",
   "execution_count": 1,
   "metadata": {},
   "outputs": [],
   "source": [
    "import numpy as np\n",
    "from numpy.linalg import norm\n",
    "from matplotlib import pyplot as plt\n",
    "from random import random"
   ]
  },
  {
   "cell_type": "code",
   "execution_count": 2,
   "metadata": {},
   "outputs": [],
   "source": [
    "class Params:\n",
    "    def __init__(self):\n",
    "        self.grid_resolution = 0.5\n",
    "        self.threshold = 5\n",
    "        self.maxiters = 100\n",
    "        self.smoothiters = 150"
   ]
  },
  {
   "cell_type": "code",
   "execution_count": 3,
   "metadata": {},
   "outputs": [],
   "source": [
    "class Robot:\n",
    "    def __init__(self):\n",
    "        self.p = [0, 0]\n",
    "        self.ballradius = 0.5"
   ]
  },
  {
   "cell_type": "code",
   "execution_count": 4,
   "metadata": {},
   "outputs": [],
   "source": [
    "class Node:\n",
    "    def __init__(self):\n",
    "        self.p     = [0, 0]\n",
    "        self.iPrev = 0"
   ]
  },
  {
   "cell_type": "code",
   "execution_count": 5,
   "metadata": {},
   "outputs": [],
   "source": [
    "# Helper functions\n",
    "from matplotlib import path\n",
    "\n",
    "def isCollisionFreeVertex(robot, obstacles):\n",
    "    # the function calculates value:\n",
    "    # collFree = [xy-point is outside obstacles map]\n",
    "    collFree = 1\n",
    "    xy = robot.p\n",
    "    for obstacle in obstacles:\n",
    "        hull = path.Path(obstacle)\n",
    "        collFree = not hull.contains_points([xy])\n",
    "        if hull.contains_points([xy]):\n",
    "#             print \"collision Vertex\"\n",
    "            return 0\n",
    "\n",
    "    return collFree"
   ]
  },
  {
   "cell_type": "code",
   "execution_count": 6,
   "metadata": {},
   "outputs": [],
   "source": [
    "def isCollisionFreeEdge(robot, obstacles, p1, p2, map_resolution=0.5):\n",
    "    p1 = np.array(p1); p2 = np.array(p2)\n",
    "    collFree = 1\n",
    "    l = norm(p1 - p2)\n",
    "    M = int(l / map_resolution)\n",
    "    if M <= 2: M = 3\n",
    "    t = np.linspace(0,1,M)\n",
    "    for i in range(1,M-1):\n",
    "        p = (1-t[i])*p1 + t[i]*p2 # calculate configuration\n",
    "        robot.p = p\n",
    "        collFree = isCollisionFreeVertex(robot, obstacles) \n",
    "        if collFree == 0:\n",
    "#             print \"collision Edge\"\n",
    "            return 0\n",
    "\n",
    "    return collFree"
   ]
  },
  {
   "cell_type": "code",
   "execution_count": 7,
   "metadata": {},
   "outputs": [
    {
     "data": {
      "text/plain": [
       "True"
      ]
     },
     "execution_count": 7,
     "metadata": {},
     "output_type": "execute_result"
    }
   ],
   "source": [
    "r = Robot()\n",
    "r.p = [0.5, 1.0]\n",
    "w = 0.2\n",
    "obstacles = [\n",
    "              np.array([[0, 0], [1, 0], [1, 0.1], [0, w]]),\n",
    "              np.array([[0, 0], [w, 0.2], [0.1, 2], [0.0, 2.0]]),\n",
    "              np.array([[0, 2-w], [1, 2], [1, 2+w], [0, 2+w]]),\n",
    "              np.array([[1-w, 0], [1+w, 0], [1+w, 1], [1, 1]]),\n",
    "              np.array([[1-w, 2+w], [1+w, 2+w], [1+w, 1.5], [1, 1.5]]),\n",
    "              np.array([[0.8, 1], [1+w, 1], [1+w, 1+w], [0.8, 1+w]]),\n",
    "              np.array([[0.8, 1.5], [1+w, 1.5], [1+w, 1.5+w], [0.8, 1.5+w]])\n",
    "]  \n",
    "isCollisionFreeVertex(r, obstacles)"
   ]
  },
  {
   "cell_type": "code",
   "execution_count": 8,
   "metadata": {},
   "outputs": [],
   "source": [
    "def AddNode(rrt, node, iPrev):\n",
    "#     print(node.p)\n",
    "    node.iPrev = iPrev\n",
    "    rrt.append( node )\n",
    "    return rrt"
   ]
  },
  {
   "cell_type": "code",
   "execution_count": 39,
   "metadata": {},
   "outputs": [],
   "source": [
    "def PlanPathRRT(robot, obstacles, param, p_start, p_goal):\n",
    "    P = []\n",
    "    node = Node()\n",
    "    node.p = p_start\n",
    "    rrt = []\n",
    "#     rrt = AddNode(rrt, node, 0)\n",
    "    k = 0\n",
    "    while k <= 5:\n",
    "        p = np.random.rand(2)\n",
    "\n",
    "        node.p = p\n",
    "#         print node.p\n",
    "        rrt.append(node)\n",
    "        print rrt[0].p\n",
    "        k = k + 1\n",
    "    \n",
    "    return rrt"
   ]
  },
  {
   "cell_type": "code",
   "execution_count": null,
   "metadata": {},
   "outputs": [],
   "source": [
    "rrt = PlanPathRRT(Robot(), [], )"
   ]
  },
  {
   "cell_type": "code",
   "execution_count": 38,
   "metadata": {},
   "outputs": [
    {
     "name": "stdout",
     "output_type": "stream",
     "text": [
      "[0.35783592 0.44312651]\n",
      "[0.61439477 0.25994732]\n",
      "[0.21552309 0.22816228]\n",
      "[0.64247324 0.54725753]\n",
      "[0.58453057 0.55920295]\n",
      "[0.12391514 0.66810168]\n"
     ]
    },
    {
     "data": {
      "image/png": "[encoded data removed]",
      "text/plain": [
       "<Figure size 720x720 with 1 Axes>"
      ]
     },
     "metadata": {
      "needs_background": "light"
     },
     "output_type": "display_data"
    }
   ],
   "source": [
    "# Obstacle Locations\n",
    "w = 0.2\n",
    "obstacles = [\n",
    "              np.array([[0, 0], [1, 0], [1, 0.1], [0, w]]),\n",
    "              np.array([[0, 0], [w, 0.2], [0.1, 2], [0.0, 2.0]]),\n",
    "              np.array([[0, 2-w], [1, 2], [1, 2+w], [0, 2+w]]),\n",
    "              np.array([[1-w, 0], [1+w, 0], [1+w, 1], [1, 1]]),\n",
    "              np.array([[1-w, 2+w], [1+w, 2+w], [1+w, 1.5], [1, 1.5]]),\n",
    "              np.array([[0.8, 1], [1+w, 1], [1+w, 1+w], [0.8, 1+w]]),\n",
    "              np.array([[0.8, 1.5], [1+w, 1.5], [1+w, 1.5+w], [0.8, 1.5+w]])\n",
    "            ]\n",
    "obstacles = []\n",
    "\n",
    "\n",
    "# Set Start and Goal locations\n",
    "p_start = [0.5, 0.5]\n",
    "p_goal = [-1, 0]\n",
    "fig = plt.figure(figsize=(10, 10))\n",
    "plt.plot(p_start[0], p_start[1], 'ro', markersize=10)\n",
    "plt.plot(p_goal[0], p_goal[1], 'ro', markersize=10, color='green')\n",
    "\n",
    "\n",
    "# initialization\n",
    "robot = Robot()\n",
    "robot.ballradius = 0.5\n",
    "robot.p = p_start\n",
    "\n",
    "param = Params()\n",
    "\n",
    "\n",
    "from matplotlib.patches import Polygon\n",
    "\n",
    "# Bounds on world\n",
    "world_bounds_x = [-2.5, 2.5]\n",
    "world_bounds_y = [-2.5, 2.5]\n",
    "\n",
    "\n",
    "# Draw obstacles\n",
    "plt.grid()\n",
    "ax = plt.gca()\n",
    "ax.set_xlim(world_bounds_x)\n",
    "ax.set_ylim(world_bounds_y)\n",
    "for k in range(len(obstacles)):\n",
    "    ax.add_patch( Polygon(obstacles[k]) )\n",
    "    \n",
    "# Plan the path\n",
    "rrt = PlanPathRRT(robot, obstacles, param, p_start, p_goal)\n",
    "\n",
    "# for i in range(len(rrt)):\n",
    "#     plt.plot(rrt[i].p[0], rrt[i].p[1], 'ro')\n",
    "#     print(rrt[i].p)\n",
    "\n",
    "# Plot the path from RRT\n",
    "# for i in range(1, len(P)):\n",
    "#     plt.plot([P(1,i);P(1,i-1)],[P(2,i);P(2,i-1)],'r','LineWidth',3)"
   ]
  }
 ],
 "metadata": {
  "kernelspec": {
   "display_name": "Python 2",
   "language": "python",
   "name": "python2"
  },
  "language_info": {
   "codemirror_mode": {
    "name": "ipython",
    "version": 2
   },
   "file_extension": ".py",
   "mimetype": "text/x-python",
   "name": "python",
   "nbconvert_exporter": "python",
   "pygments_lexer": "ipython2",
   "version": "2.7.12"
  }
 },
 "nbformat": 4,
 "nbformat_minor": 2
}
