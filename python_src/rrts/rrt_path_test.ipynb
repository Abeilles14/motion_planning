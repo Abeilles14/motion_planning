{
 "cells": [
  {
   "cell_type": "code",
   "execution_count": 1,
   "metadata": {},
   "outputs": [],
   "source": [
    "import numpy as np\n",
    "from math import *\n",
    "from numpy.linalg import norm\n",
    "from matplotlib import pyplot as plt\n",
    "from matplotlib import path\n",
    "from matplotlib.patches import Polygon\n",
    "from random import random"
   ]
  },
  {
   "cell_type": "markdown",
   "metadata": {},
   "source": [
    "Helper functions"
   ]
  },
  {
   "cell_type": "code",
   "execution_count": 2,
   "metadata": {},
   "outputs": [],
   "source": [
    "class Params:\n",
    "    def __init__(self):\n",
    "        self.grid_resolution = 0.01\n",
    "        self.dist_to_reach_goal = 0.2\n",
    "        self.maxiters = 5000\n",
    "        self.d = 0.3 # [m] max distance to expand closest rrt vertex\n",
    "        self.smoothiters = 150"
   ]
  },
  {
   "cell_type": "code",
   "execution_count": 3,
   "metadata": {},
   "outputs": [],
   "source": [
    "class Robot:\n",
    "    def __init__(self):\n",
    "        self.p = [0, 0]"
   ]
  },
  {
   "cell_type": "code",
   "execution_count": 4,
   "metadata": {},
   "outputs": [],
   "source": [
    "class Node:\n",
    "    def __init__(self):\n",
    "        self.p     = [0, 0]\n",
    "        self.iPrev = 0"
   ]
  },
  {
   "cell_type": "code",
   "execution_count": 5,
   "metadata": {},
   "outputs": [],
   "source": [
    "# Helper functions\n",
    "def isCollisionFreeVertex(robot, obstacles):\n",
    "    # the function calculates value:\n",
    "    # collFree = [xy-point is outside obstacles map]\n",
    "    collFree = 1\n",
    "    xy = robot.p\n",
    "    for obstacle in obstacles:\n",
    "        hull = path.Path(obstacle)\n",
    "        collFree = not hull.contains_points([xy])\n",
    "        if hull.contains_points([xy]):\n",
    "#             print('collision Vertex')\n",
    "            return 0\n",
    "\n",
    "    return collFree"
   ]
  },
  {
   "cell_type": "code",
   "execution_count": 6,
   "metadata": {},
   "outputs": [],
   "source": [
    "def isCollisionFreeEdge(robot, obstacles, p1, p2, map_resolution=0.05):\n",
    "    p1 = np.array(p1); p2 = np.array(p2)\n",
    "    collFree = 1\n",
    "    l = norm(p1 - p2)\n",
    "    M = int(l / map_resolution)\n",
    "    if M <= 2: M = 11    \n",
    "    t = np.linspace(0,1,M)\n",
    "    for i in range(1,M-1):\n",
    "        p = (1-t[i])*p1 + t[i]*p2 # calculate configuration\n",
    "        robot.p = p\n",
    "        collFree = isCollisionFreeVertex(robot, obstacles) \n",
    "        if collFree == 0:\n",
    "#             print('collision Edge')\n",
    "            return 0\n",
    "\n",
    "    return collFree"
   ]
  },
  {
   "cell_type": "code",
   "execution_count": 7,
   "metadata": {},
   "outputs": [],
   "source": [
    "def closestVertex(rrt, p):\n",
    "    distance = np.zeros(len(rrt))\n",
    "    for k in range( len(rrt) ):\n",
    "        distance[k] = sqrt((p[0] - rrt[k].p[0])**2 + (p[1] - rrt[k].p[1])**2)\n",
    "    dmin = min(distance)\n",
    "    ind_min = distance.tolist().index(dmin)\n",
    "    \n",
    "    closest_vert = rrt[ind_min].p\n",
    "\n",
    "    return closest_vert, ind_min"
   ]
  },
  {
   "cell_type": "code",
   "execution_count": 8,
   "metadata": {},
   "outputs": [],
   "source": [
    "def AddNode(rrt, p, iPrev):\n",
    "    node = Node()\n",
    "    node.p = p\n",
    "    node.iPrev = iPrev\n",
    "    rrt.append( node )\n",
    "    return rrt"
   ]
  },
  {
   "cell_type": "code",
   "execution_count": 9,
   "metadata": {},
   "outputs": [],
   "source": [
    "def PlanPathRRT(robot, obstacles, param, p_start, p_goal):\n",
    "    P = []\n",
    "    rrt = []\n",
    "    rrt = AddNode(rrt, p_start, 0)\n",
    "    iteration = 1\n",
    "    GoalReached = 0\n",
    "    while not GoalReached and iteration <= param.maxiters:\n",
    "#     while iteration <= 100:\n",
    "        p = np.random.rand(2)\n",
    "        p[0] = p[0]*5-2.5\n",
    "        p[1] = p[1]*5-2.5\n",
    "        robot.p = p\n",
    "        collisionFree = isCollisionFreeVertex(robot, obstacles)\n",
    "        if collisionFree == 0: # skip to next iteration\n",
    "            iteration += 1\n",
    "            continue\n",
    "                \n",
    "        closest_vert, imin = closestVertex(rrt, p)\n",
    "        new_vert = closest_vert + param.d*(p - closest_vert)\n",
    "                \n",
    "        collision = isCollisionFreeEdge(robot, obstacles, new_vert, closest_vert, param.grid_resolution) # check for valid edge\n",
    "        if collision == 0: # skip to next iteration if not valid edge\n",
    "            iteration = iteration + 1\n",
    "            continue\n",
    "        rrt = AddNode(rrt, new_vert, imin) # add p to RRT with parent l\n",
    "        dist = norm(new_vert-p_goal)\n",
    "        \n",
    "        \n",
    "        if (dist < param.dist_to_reach_goal):\n",
    "            GoalReached = 1\n",
    "            print('Near the goal')\n",
    "            collisionFree = isCollisionFreeEdge(robot, obstacles, p, p_goal, param.grid_resolution) # check for valid edge\n",
    "            if collisionFree == 0: # skip to next iteration if not valid edge\n",
    "                iteration = iteration + 1\n",
    "                continue \n",
    "                \n",
    "            iterations = iteration\n",
    "            # add qgoal to RRT with parent q and exit with success\n",
    "            rrt = AddNode(rrt, p_goal, len(rrt))\n",
    "\n",
    "            # Construct path, P, here:\n",
    "            i = len(rrt)\n",
    "            P = np.array( rrt[-1].p )\n",
    "\n",
    "            for j in range(len(rrt)-1,0,-1):\n",
    "#                 print(rrt[j].iPrev)\n",
    "                i_path = rrt[j].iPrev\n",
    "                P = np.vstack([P, rrt[i_path].p])\n",
    "                if i_path==0:\n",
    "                    print('Number of iterations: ', iteration)\n",
    "                    break\n",
    "        iteration = iteration + 1\n",
    "    return P"
   ]
  },
  {
   "cell_type": "code",
   "execution_count": 12,
   "metadata": {},
   "outputs": [
    {
     "name": "stdout",
     "output_type": "stream",
     "text": [
      "Near the goal\n",
      "('Number of iterations: ', 745)\n"
     ]
    },
    {
     "data": {
      "image/png": "[encoded data removed]",
      "text/plain": [
       "<Figure size 720x720 with 1 Axes>"
      ]
     },
     "metadata": {
      "needs_background": "light"
     },
     "output_type": "display_data"
    }
   ],
   "source": [
    "# Obstacle Locations\n",
    "w = 0.2\n",
    "obstacles = [\n",
    "              np.array([[0, 0], [1, 0], [1, 0.1], [0, w]]),\n",
    "              np.array([[0, 0], [w, 0.2], [0.1, 2], [0.0, 2.0]]),\n",
    "              np.array([[0, 2-w], [1, 2], [1, 2+w], [0, 2+w]]),\n",
    "              np.array([[1-w, 0], [1+w, 0], [1+w, 1], [1, 1]]),\n",
    "              np.array([[1-w, 2+w], [1+w, 2+w], [1+w, 1.5], [1, 1.5]]),\n",
    "              np.array([[0.8, 1], [1+w, 1], [1+w, 1+w], [0.8, 1+w]]),\n",
    "              np.array([[0.8, 1.5], [1+w, 1.5], [1+w, 1.5+w], [0.8, 1.5+w]])\n",
    "            ]\n",
    "# obstacles = []\n",
    "\n",
    "\n",
    "# Set Start and Goal locations\n",
    "p_start = [0.5, 0.5]\n",
    "p_goal = [0, -1]\n",
    "\n",
    "# initialization\n",
    "robot = Robot()\n",
    "robot.p = p_start\n",
    "\n",
    "node = Node()\n",
    "param = Params()\n",
    "\n",
    "# Bounds on world\n",
    "world_bounds_x = [-2.5, 2.5]\n",
    "world_bounds_y = [-2.5, 2.5]\n",
    "\n",
    "\n",
    "# Draw obstacles\n",
    "fig = plt.figure(figsize=(10, 10))\n",
    "plt.grid()\n",
    "ax = plt.gca()\n",
    "ax.set_xlim(world_bounds_x)\n",
    "ax.set_ylim(world_bounds_y)\n",
    "for k in range(len(obstacles)):\n",
    "    ax.add_patch( Polygon(obstacles[k]) )\n",
    "    \n",
    "plt.plot(p_start[0], p_start[1], 'ro', color='red', markersize=10, label='start')\n",
    "plt.plot(p_goal[0], p_goal[1], 'ro', color='green', markersize=10, label='goal')\n",
    "plt.legend()\n",
    "\n",
    "# Plan the path\n",
    "P = PlanPathRRT(robot, obstacles, param, p_start, p_goal)\n",
    "\n",
    "if len(P)==0:\n",
    "    print('Path is not found')\n",
    "else:\n",
    "    # Plot the path from RRT\n",
    "    for i in range(1,len(P)):\n",
    "#         plt.plot([P[i,0], P[i-1,0]], [P[i,1], P[i-1,1]], color='blue')\n",
    "        plt.plot(P[:,0], P[:,1], 'ro', color='blue', markersize=5)"
   ]
  }
 ],
 "metadata": {
  "kernelspec": {
   "display_name": "Python 2",
   "language": "python",
   "name": "python2"
  },
  "language_info": {
   "codemirror_mode": {
    "name": "ipython",
    "version": 2
   },
   "file_extension": ".py",
   "mimetype": "text/x-python",
   "name": "python",
   "nbconvert_exporter": "python",
   "pygments_lexer": "ipython2",
   "version": "2.7.12"
  }
 },
 "nbformat": 4,
 "nbformat_minor": 2
}
